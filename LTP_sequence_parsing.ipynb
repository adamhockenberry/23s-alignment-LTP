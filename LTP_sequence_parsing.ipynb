{
 "cells": [
  {
   "cell_type": "markdown",
   "metadata": {},
   "source": [
    "# Jupyter Notebook magic to make plots appear in line"
   ]
  },
  {
   "cell_type": "code",
   "execution_count": 1,
   "metadata": {
    "collapsed": true
   },
   "outputs": [],
   "source": [
    "%matplotlib inline"
   ]
  },
  {
   "cell_type": "markdown",
   "metadata": {},
   "source": [
    "# Library imports"
   ]
  },
  {
   "cell_type": "code",
   "execution_count": 2,
   "metadata": {
    "collapsed": false
   },
   "outputs": [],
   "source": [
    "from Bio import Phylo\n",
    "from Bio import SeqIO\n",
    "\n",
    "import numpy as np\n",
    "from scipy import stats\n",
    "import pandas as pd\n",
    "\n",
    "import matplotlib.pyplot as plt\n",
    "import matplotlib\n",
    "import matplotlib.colors as colors\n",
    "matplotlib.rcParams['font.family'] = 'sans-serif'\n",
    "matplotlib.rcParams['font.sans-serif'] = ['Arial']"
   ]
  },
  {
   "cell_type": "markdown",
   "metadata": {
    "collapsed": true
   },
   "source": [
    "# Read in the LTP phylogenetic tree\n",
    "And inspect it to make sure it contains what we think it does"
   ]
  },
  {
   "cell_type": "code",
   "execution_count": 3,
   "metadata": {
    "collapsed": false
   },
   "outputs": [],
   "source": [
    "tree = Phylo.read('./LTPs123_LSU_tree.newick', 'newick')"
   ]
  },
  {
   "cell_type": "code",
   "execution_count": 4,
   "metadata": {
    "collapsed": false
   },
   "outputs": [
    {
     "name": "stdout",
     "output_type": "stream",
     "text": [
      "1614\n"
     ]
    }
   ],
   "source": [
    "print(len(tree.get_terminals()))"
   ]
  },
  {
   "cell_type": "code",
   "execution_count": 5,
   "metadata": {
    "collapsed": false
   },
   "outputs": [
    {
     "name": "stdout",
     "output_type": "stream",
     "text": [
      "Aeromonas_hydrophila_subsp._anaerogenes__AF508058__Aeromonadaceae\n",
      "Aeromonas_hydrophila_subsp._hydrophila__CP000462__Aeromonadaceae\n",
      "Aeromonas_media__AF508059__Aeromonadaceae\n",
      "Aeromonas_salmonicida_subsp._salmonicida__AY987630__Aeromonadaceae\n",
      "Aeromonas_salmonicida_subsp._pectinolytica__ARYZ01000149__Aeromonadaceae\n"
     ]
    }
   ],
   "source": [
    "for i in tree.get_terminals()[:5]:\n",
    "    print(i.name)\n",
    "    "
   ]
  },
  {
   "cell_type": "markdown",
   "metadata": {},
   "source": [
    "# Read in the LTP aligned fasta sequences\n",
    "And inspect it"
   ]
  },
  {
   "cell_type": "code",
   "execution_count": 6,
   "metadata": {
    "collapsed": false
   },
   "outputs": [],
   "source": [
    "records = list(SeqIO.parse('./LTPs123_LSU_aligned.fasta', 'fasta'))"
   ]
  },
  {
   "cell_type": "code",
   "execution_count": 7,
   "metadata": {
    "collapsed": false
   },
   "outputs": [
    {
     "name": "stdout",
     "output_type": "stream",
     "text": [
      "1614\n"
     ]
    }
   ],
   "source": [
    "print(len(records))"
   ]
  },
  {
   "cell_type": "code",
   "execution_count": 8,
   "metadata": {
    "collapsed": false
   },
   "outputs": [
    {
     "name": "stdout",
     "output_type": "stream",
     "text": [
      "ID: AQXM01000063\n",
      "Name: AQXM01000063\n",
      "Description: AQXM01000063\t138813\t141952\t3140bp\trna\tAcaricomes phytoseiuli\tMicrococcaceae\n",
      "Number of features: 0\n",
      "Seq('...........................................................A', SingleLetterAlphabet())\n"
     ]
    }
   ],
   "source": [
    "print(records[0])\n",
    "# print(records[0].seq)"
   ]
  },
  {
   "cell_type": "markdown",
   "metadata": {},
   "source": [
    "# Find *E. coli*"
   ]
  },
  {
   "cell_type": "code",
   "execution_count": 9,
   "metadata": {
    "collapsed": false
   },
   "outputs": [
    {
     "name": "stdout",
     "output_type": "stream",
     "text": [
      "AJ278710\t1\t2900\t2900bp\trna\tEscherichia coli\tEnterobacteriaceae\n",
      "CU928158\t3876572\t3879476\t2905bp\trna\tEscherichia fergusonii\tEnterobacteriaceae\n"
     ]
    }
   ],
   "source": [
    "for i in records:\n",
    "    if i.description.find('Escherichia') != -1:\n",
    "        print(i.description)"
   ]
  },
  {
   "cell_type": "markdown",
   "metadata": {},
   "source": [
    "# Move the sequences over into a dictionary object to make handling them easier"
   ]
  },
  {
   "cell_type": "code",
   "execution_count": 10,
   "metadata": {
    "collapsed": false
   },
   "outputs": [],
   "source": [
    "sequence_dict = {}\n",
    "for record in records:\n",
    "    sequence_dict[record.id] = record.seq"
   ]
  },
  {
   "cell_type": "code",
   "execution_count": 11,
   "metadata": {
    "collapsed": false
   },
   "outputs": [
    {
     "name": "stdout",
     "output_type": "stream",
     "text": [
      "There are 1614 sequences total and the length of the aligned E. coli sequence is 11079\n"
     ]
    }
   ],
   "source": [
    "print('There are {} sequences total and the length of the aligned E. coli sequence is {}'\\\n",
    "      .format(len(sequence_dict.keys()), len(sequence_dict['AJ278710'])))"
   ]
  },
  {
   "cell_type": "markdown",
   "metadata": {},
   "source": [
    "# Create a separate dictionary to match the names in the tree to their sequence record id's\n",
    "I'm doing this inefficiently but it runs quick enough so not too concerning"
   ]
  },
  {
   "cell_type": "code",
   "execution_count": 12,
   "metadata": {
    "collapsed": false
   },
   "outputs": [],
   "source": [
    "name_conversion_dict = {}\n",
    "for i in sequence_dict.keys():\n",
    "#     print(i)\n",
    "    i_counts = 0\n",
    "    for terminal in tree.get_terminals():\n",
    "        if terminal.name.find(i) != -1:\n",
    "            name_conversion_dict[terminal.name] = i\n",
    "            i_counts += 1\n",
    "    if i_counts != 1: ### Make sure that I find one and only one match for each record\n",
    "        print(i, i_counts)"
   ]
  },
  {
   "cell_type": "markdown",
   "metadata": {
    "collapsed": true
   },
   "source": [
    "# This little dictionary will map the traditional E. coli positions to their positions in the aligned sequences (i.e. dealing with all the gaps that exist in the aligned sequences)"
   ]
  },
  {
   "cell_type": "code",
   "execution_count": 13,
   "metadata": {
    "collapsed": true
   },
   "outputs": [],
   "source": [
    "mapping_dict = {}\n",
    "starting_point = 0\n",
    "nt_seq = []\n",
    "for i,nt in enumerate(list(str(sequence_dict['AJ278710']))):\n",
    "    if nt in ['A', 'U', 'G', 'C']:\n",
    "        nt_seq.append(nt)\n",
    "        starting_point += 1\n",
    "        mapping_dict[starting_point] = i\n"
   ]
  },
  {
   "cell_type": "markdown",
   "metadata": {},
   "source": [
    "# Get the ungapped 23s E. coli sequence to aid in finding regions of interest"
   ]
  },
  {
   "cell_type": "code",
   "execution_count": 14,
   "metadata": {
    "collapsed": false
   },
   "outputs": [
    {
     "name": "stdout",
     "output_type": "stream",
     "text": [
      "5' region\n",
      "UAAGCGACUAAGCGUACACGGUGGAUGCCCUGGCAGUCAGAGGCGAUGAAGGACGUGCUAAUCUGCGAUAAGCGUCGGUGAGGUGAUAUGAACCGUUAUA\n",
      "3' region\n",
      "CCUGAAGGAACGUUGAAGACGACGACGUUGAUAGGCCGGGUGUGUAAGCGCAGCGAUGCGUUGAGCUAACCGGUACUAAUGAACCGUGAGGCUUAACCUU\n"
     ]
    }
   ],
   "source": [
    "ec_nt = ''.join(nt_seq)\n",
    "print('5\\' region')\n",
    "print(ec_nt[:100])\n",
    "print('3\\' region')\n",
    "print(ec_nt[-100:])"
   ]
  },
  {
   "cell_type": "markdown",
   "metadata": {},
   "source": [
    "# Alright this step took a fair bit of manual effort to find the location of motifs of interest in the E. coli sequence so I'm just including one as an example so you get the idea"
   ]
  },
  {
   "cell_type": "code",
   "execution_count": 15,
   "metadata": {
    "collapsed": false
   },
   "outputs": [
    {
     "data": {
      "text/plain": [
       "2491"
      ]
     },
     "execution_count": 15,
     "metadata": {},
     "output_type": "execute_result"
    }
   ],
   "source": [
    "# target_seq = 'GAAAGAC'\n",
    "# target_seq = 'GAUAACAGGC'\n",
    "target_seq = 'CACCUCGAUGUC'\n",
    "# target_seq = 'GGUUUAG'\n",
    "# target_seq = 'CGGUCCC'\n",
    "# target_seq = 'AGUUCGGUCCC'\n",
    "# target_seq = 'UGGCUGUUCGCCA'\n",
    "\n",
    "ec_nt.find(target_seq)"
   ]
  },
  {
   "cell_type": "code",
   "execution_count": 16,
   "metadata": {
    "collapsed": false
   },
   "outputs": [
    {
     "name": "stdout",
     "output_type": "stream",
     "text": [
      "9597\n",
      "9598\n",
      "9599\n",
      "9600\n",
      "9601\n",
      "9602\n",
      "9603\n",
      "9605\n",
      "9606\n",
      "9607\n",
      "9608\n",
      "9609\n",
      "9610\n"
     ]
    }
   ],
   "source": [
    "for i in range(2491, 2491+len(target_seq)+1):\n",
    "    print(mapping_dict[i])"
   ]
  },
  {
   "cell_type": "markdown",
   "metadata": {},
   "source": [
    "# Summarizing the interesting regions\n",
    "From all the manual work above here are some of the regions that I identified"
   ]
  },
  {
   "cell_type": "code",
   "execution_count": 17,
   "metadata": {
    "collapsed": true
   },
   "outputs": [],
   "source": [
    "#####Checking out an individual region\n",
    "region_of_interest = list(range(9598, 9604))+list(range(9605,9611))\n",
    "region_name = 'region3'\n",
    "\n",
    "#####Combining them all\n",
    "# region_of_interest_1 = [9073] + list(range(9075, 9081))\n",
    "# region_of_interest_2 = list(range(9543, 9546))+list(range(9548, 9555))\n",
    "# region_of_interest_3 = list(range(9598, 9604))+list(range(9605,9611))\n",
    "# region_of_interest_4 = list(range(9693, 9698)) + list(range(9699,9701))\n",
    "# region_of_interest_5 = list(range(9715, 9716))\n",
    "# region_of_interest_6 = [9773] + list(range(9775, 9778)) + list(range(9780,9782))\n",
    "# region_of_interest = region_of_interest_1 + region_of_interest_2 + region_of_interest_3 +\\\n",
    "#                         region_of_interest_4 + region_of_interest_5 + region_of_interest_6\n",
    "# region_name = 'all'"
   ]
  },
  {
   "cell_type": "markdown",
   "metadata": {},
   "source": [
    "# Making the matrix for visualization\n",
    "I convert the categorical values (nucleotides) into numbers to make the heatmap"
   ]
  },
  {
   "cell_type": "code",
   "execution_count": 18,
   "metadata": {
    "collapsed": false
   },
   "outputs": [],
   "source": [
    "matrix = []\n",
    "\n",
    "for terminal in tree.get_terminals():\n",
    "    i = name_conversion_dict[terminal.name]\n",
    "    j = sequence_dict[i]\n",
    "    tempy = []\n",
    "    if len(j) > 1600:\n",
    "        for nt_pos in region_of_interest:\n",
    "            nt = j[nt_pos]\n",
    "            if nt == 'U':\n",
    "                tempy.append(1)\n",
    "            elif nt == 'C':\n",
    "                tempy.append(0.5)\n",
    "            elif nt == 'A':\n",
    "                tempy.append(0)\n",
    "            elif nt == 'G':\n",
    "                tempy.append(-0.5)\n",
    "            else:\n",
    "                tempy.append(-1)\n",
    "        matrix.append(tempy)"
   ]
  },
  {
   "cell_type": "code",
   "execution_count": 19,
   "metadata": {
    "collapsed": false
   },
   "outputs": [
    {
     "name": "stdout",
     "output_type": "stream",
     "text": [
      "Double checking that my matrix has 1614 rows and 12 columns\n"
     ]
    }
   ],
   "source": [
    "print('Double checking that my matrix has {} rows and {} columns'.format(len(matrix), len(matrix[0])))"
   ]
  },
  {
   "cell_type": "markdown",
   "metadata": {},
   "source": [
    "# Plotting"
   ]
  },
  {
   "cell_type": "code",
   "execution_count": 20,
   "metadata": {
    "collapsed": false
   },
   "outputs": [
    {
     "data": {
      "image/png": "[encoded data removed]",
      "text/plain": [
       "<matplotlib.figure.Figure at 0x10b166be0>"
      ]
     },
     "metadata": {},
     "output_type": "display_data"
    }
   ],
   "source": [
    "fig, ax = plt.subplots(figsize=(3+(9*(len(matrix[0])/22)),12))\n",
    "\n",
    "# define the colormap\n",
    "cmap = plt.cm.jet\n",
    "cmaplist = ['white', 'mediumseagreen', 'firebrick', 'darkorange', 'steelblue']\n",
    "# create the new map\n",
    "cmap = cmap.from_list('Custom cmap', cmaplist, cmap.N)\n",
    "bounds = np.linspace(-1.2, 1.2, 6)\n",
    "norm = colors.BoundaryNorm(boundaries=bounds, ncolors=256)\n",
    "# norm = mpl.colors.BoundaryNorm(bounds, cmap.N)\n",
    "cax = ax.pcolormesh(matrix, norm=norm, cmap=cmap)\n",
    "cax.set_edgecolor('face')\n",
    "cbar = fig.colorbar(cax, ticks=[-1, -0.5, 0, 0.5, 1])\n",
    "cbar.ax.set_yticklabels(['Missing', 'G', 'A', 'C', 'U'], fontsize=24)\n",
    "ax.set_xticks([i+0.5 for i in range(len(matrix[0]))])\n",
    "ax.set_xticklabels([sequence_dict['AJ278710'][i] for i in region_of_interest])\n",
    "ax.xaxis.tick_top()\n",
    "ax.set_xlabel('NT position', fontsize=24)\n",
    "ax.set_ylabel('Species', fontsize=24)\n",
    "ax.tick_params(labelsize=20)\n",
    "ax.set_yticklabels('')\n",
    "for line in ax.yaxis.get_ticklines():\n",
    "    line.set_markersize(0)\n",
    "    line.set_markeredgewidth(0)\n",
    "plt.tight_layout()\n",
    "# plt.savefig('./{}.pdf'.format(region_name))"
   ]
  },
  {
   "cell_type": "markdown",
   "metadata": {},
   "source": [
    "# Calculating entropies"
   ]
  },
  {
   "cell_type": "code",
   "execution_count": 21,
   "metadata": {
    "collapsed": false
   },
   "outputs": [],
   "source": [
    "positions = []\n",
    "entropies = []\n",
    "missing = []\n",
    "for pos, i in enumerate(np.array(matrix).T):\n",
    "    tempy = []\n",
    "    for nt in i:\n",
    "        if nt in [1, 0.5, 0, -0.5]:\n",
    "            tempy.append(nt)\n",
    "    ps = [tempy.count(i)/len(tempy) for i in [1, 0.5, 0, -0.5]]\n",
    "    entropies.append(stats.entropy(ps))\n",
    "    positions.append(pos)"
   ]
  },
  {
   "cell_type": "markdown",
   "metadata": {
    "collapsed": true
   },
   "source": [
    "# Plotting entropies and saving values in a dataframe"
   ]
  },
  {
   "cell_type": "code",
   "execution_count": 22,
   "metadata": {
    "collapsed": false
   },
   "outputs": [
    {
     "data": {
      "image/png": "[encoded data removed]",
      "text/plain": [
       "<matplotlib.figure.Figure at 0x10b1e8da0>"
      ]
     },
     "metadata": {},
     "output_type": "display_data"
    }
   ],
   "source": [
    "fig, ax = plt.subplots(figsize=(2+(8*(len(matrix[0])/22)),3.5))\n",
    "ax.plot(positions, entropies, marker='o')\n",
    "ax.set_xticks([i for i in range(len(matrix[0]))])\n",
    "ax.set_xticklabels([sequence_dict['AJ278710'][i] for i in region_of_interest])\n",
    "ax.set_xlabel('NT position', fontsize=24)\n",
    "ax.set_ylabel('Shannon entropy', fontsize=24)\n",
    "ax.tick_params(labelsize=20)\n",
    "ax.set_ylim(0, 1.2);\n",
    "ax.set_xlim(0, len(entropies)-1)\n",
    "plt.tight_layout()\n",
    "# plt.savefig('./{}_entropies.pdf'.format(region_name))\n",
    "\n",
    "\n",
    "\n",
    "\n",
    "df = pd.DataFrame()\n",
    "counter = 0\n",
    "for i in region_of_interest:\n",
    "    j = sequence_dict['AJ278710'][i]\n",
    "    df.set_value(i, 'NT', j)\n",
    "    if j == '-':\n",
    "        df.set_value(i, 'Entropy', np.nan)\n",
    "        counter += 1\n",
    "    else:\n",
    "        df.set_value(i, 'Entropy', entropies[counter])\n",
    "        counter += 1\n",
    "# writer = pd.ExcelWriter('./{}_entropies.xlsx'.format(region_name))\n",
    "# df.to_excel(writer,'Sheet1')\n",
    "# writer.save()"
   ]
  },
  {
   "cell_type": "code",
   "execution_count": null,
   "metadata": {
    "collapsed": true
   },
   "outputs": [],
   "source": []
  },
  {
   "cell_type": "markdown",
   "metadata": {},
   "source": [
    "# *fin.*"
   ]
  },
  {
   "cell_type": "code",
   "execution_count": null,
   "metadata": {
    "collapsed": true
   },
   "outputs": [],
   "source": []
  },
  {
   "cell_type": "code",
   "execution_count": null,
   "metadata": {
    "collapsed": true
   },
   "outputs": [],
   "source": []
  }
 ],
 "metadata": {
  "kernelspec": {
   "display_name": "Python 3",
   "language": "python",
   "name": "python3"
  },
  "language_info": {
   "codemirror_mode": {
    "name": "ipython",
    "version": 3
   },
   "file_extension": ".py",
   "mimetype": "text/x-python",
   "name": "python",
   "nbconvert_exporter": "python",
   "pygments_lexer": "ipython3",
   "version": "3.4.5"
  },
  "toc": {
   "colors": {
    "hover_highlight": "#DAA520",
    "navigate_num": "#000000",
    "navigate_text": "#333333",
    "running_highlight": "#FF0000",
    "selected_highlight": "#FFD700",
    "sidebar_border": "#EEEEEE",
    "wrapper_background": "#FFFFFF"
   },
   "moveMenuLeft": true,
   "nav_menu": {
    "height": "12px",
    "width": "252px"
   },
   "navigate_menu": true,
   "number_sections": true,
   "sideBar": true,
   "threshold": 4,
   "toc_cell": false,
   "toc_section_display": "block",
   "toc_window_display": false,
   "widenNotebook": false
  }
 },
 "nbformat": 4,
 "nbformat_minor": 0
}
